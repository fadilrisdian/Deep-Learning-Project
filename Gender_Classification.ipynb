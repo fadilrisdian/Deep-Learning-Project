{
  "nbformat": 4,
  "nbformat_minor": 0,
  "metadata": {
    "colab": {
      "name": "Gender_Classification.ipynb",
      "provenance": [],
      "collapsed_sections": []
    },
    "kernelspec": {
      "name": "python3",
      "display_name": "Python 3"
    },
    "language_info": {
      "name": "python"
    },
    "accelerator": "GPU",
    "gpuClass": "standard"
  },
  "cells": [
    {
      "cell_type": "code",
      "execution_count": 1,
      "metadata": {
        "id": "68k0YeCn6T9S"
      },
      "outputs": [],
      "source": [
        "import os\n",
        "import zipfile\n",
        "import shutil\n",
        "import numpy as np\n",
        "import matplotlib.pyplot as plt\n",
        "import tensorflow as tf\n",
        "\n",
        "from tensorflow.keras.preprocessing.image import ImageDataGenerator\n",
        "from tensorflow.keras.preprocessing.image import load_img\n",
        "from tensorflow.keras.preprocessing.image import img_to_array\n",
        "from tensorflow.keras.optimizers import RMSprop, SGD, Adam\n",
        "from tensorflow.keras import Model"
      ]
    },
    {
      "cell_type": "code",
      "source": [
        "from tensorflow.keras.applications.inception_v3 import InceptionV3\n",
        "from tensorflow.keras import layers"
      ],
      "metadata": {
        "id": "FrVREzY099NG"
      },
      "execution_count": 2,
      "outputs": []
    },
    {
      "cell_type": "code",
      "source": [
        "# for file_name in os.listdir(source_folder):\n",
        "#     # construct full file path\n",
        "#     source = source_folder + file_name\n",
        "#     destination = destination_folder + file_name\n",
        "#     # copy only files\n",
        "#     if os.path.isfile(source):\n",
        "#         shutil.copyfile(source, destination)\n",
        "#         print('copied', file_name)"
      ],
      "metadata": {
        "id": "_kI1wuYWCbpN"
      },
      "execution_count": null,
      "outputs": []
    },
    {
      "cell_type": "code",
      "source": [
        "from google.colab import drive\n",
        "drive.mount('/content/drive')"
      ],
      "metadata": {
        "colab": {
          "base_uri": "https://localhost:8080/"
        },
        "id": "ckR6U9isBLcg",
        "outputId": "e394423b-b50d-4105-e51c-6378896e5e7d"
      },
      "execution_count": 4,
      "outputs": [
        {
          "output_type": "stream",
          "name": "stdout",
          "text": [
            "Mounted at /content/drive\n"
          ]
        }
      ]
    },
    {
      "cell_type": "code",
      "source": [
        "source_path_pria = '/content/drive/MyDrive/data_gender/Pria'\n",
        "source_path_wanita = '/content/drive/MyDrive/data_gender/Wanita'\n",
        "# os.listdir returns a list containing all files under the given path\n",
        "print(f\"There are {len(os.listdir(source_path_pria))} images of pria.\")\n",
        "print(f\"There are {len(os.listdir(source_path_wanita))} images of wanita.\")"
      ],
      "metadata": {
        "id": "Rqh1zWoiChcu",
        "colab": {
          "base_uri": "https://localhost:8080/"
        },
        "outputId": "4f43360d-a0c4-4bb4-c915-106f48761ba4"
      },
      "execution_count": 5,
      "outputs": [
        {
          "output_type": "stream",
          "name": "stdout",
          "text": [
            "There are 727 images of pria.\n",
            "There are 1089 images of wanita.\n"
          ]
        }
      ]
    },
    {
      "cell_type": "code",
      "source": [
        "# Load the first example of a happy face\n",
        "sample_image  = load_img(f\"{os.path.join(source_path_pria, os.listdir(source_path_pria)[0])}\")\n",
        "\n",
        "# Convert the image into its numpy array representation\n",
        "sample_array = img_to_array(sample_image)\n",
        "\n",
        "print(f\"Each image has shape: {sample_array.shape}\")\n",
        "\n",
        "print(f\"The maximum pixel value used is: {np.max(sample_array)}\")"
      ],
      "metadata": {
        "colab": {
          "base_uri": "https://localhost:8080/"
        },
        "id": "eZfGwT-8C2P1",
        "outputId": "b6fcd931-4673-49c5-d90e-377bca4e3d3e"
      },
      "execution_count": 6,
      "outputs": [
        {
          "output_type": "stream",
          "name": "stdout",
          "text": [
            "Each image has shape: (1350, 1080, 3)\n",
            "The maximum pixel value used is: 255.0\n"
          ]
        }
      ]
    },
    {
      "cell_type": "code",
      "source": [
        "base_dir = '/content/drive/MyDrive/data_gender/'"
      ],
      "metadata": {
        "id": "JUVJX_0_D9qK"
      },
      "execution_count": 7,
      "outputs": []
    },
    {
      "cell_type": "code",
      "source": [
        "train_datagen = ImageDataGenerator(\n",
        "                        rescale=1./255,\n",
        "                        rotation_range=20,\n",
        "                        horizontal_flip=True,\n",
        "                        width_shift_range=0.2,\n",
        "                        height_shift_range=0.2,\n",
        "                        shear_range = 0.2,\n",
        "                        fill_mode = 'nearest',\n",
        "                        validation_split=0.2,\n",
        "                        )"
      ],
      "metadata": {
        "id": "jbJeG_dbEL4L"
      },
      "execution_count": 8,
      "outputs": []
    },
    {
      "cell_type": "code",
      "source": [
        "test_datagen = ImageDataGenerator(rescale=1./255)"
      ],
      "metadata": {
        "id": "iffsusgmmcVd"
      },
      "execution_count": 9,
      "outputs": []
    },
    {
      "cell_type": "code",
      "source": [
        "training_generator = train_datagen.flow_from_directory(\n",
        "    base_dir,\n",
        "    target_size = (256, 256),\n",
        "    shuffle = True,\n",
        "    class_mode = 'categorical',\n",
        "    subset = 'training'\n",
        ")\n",
        "validation_generator = train_datagen.flow_from_directory(\n",
        "    base_dir,\n",
        "    target_size = (256, 256),\n",
        "    shuffle = True,\n",
        "    class_mode = 'categorical',\n",
        "    subset = 'validation'\n",
        ")"
      ],
      "metadata": {
        "colab": {
          "base_uri": "https://localhost:8080/"
        },
        "id": "DdyTplYAESP-",
        "outputId": "b408fe14-9fad-441f-b837-6fd83ebe5268"
      },
      "execution_count": 10,
      "outputs": [
        {
          "output_type": "stream",
          "name": "stdout",
          "text": [
            "Found 1453 images belonging to 2 classes.\n",
            "Found 362 images belonging to 2 classes.\n"
          ]
        }
      ]
    },
    {
      "cell_type": "code",
      "source": [
        "pre_trained_model = InceptionV3(input_shape = (256, 256, 3), \n",
        "                                include_top = False, \n",
        "                                weights = 'imagenet')"
      ],
      "metadata": {
        "id": "8tTpbVQwkqLF",
        "colab": {
          "base_uri": "https://localhost:8080/"
        },
        "outputId": "df0cec75-9a76-4ab6-e115-ee54c1125a9a"
      },
      "execution_count": 11,
      "outputs": [
        {
          "output_type": "stream",
          "name": "stdout",
          "text": [
            "Downloading data from https://storage.googleapis.com/tensorflow/keras-applications/inception_v3/inception_v3_weights_tf_dim_ordering_tf_kernels_notop.h5\n",
            "87916544/87910968 [==============================] - 0s 0us/step\n",
            "87924736/87910968 [==============================] - 0s 0us/step\n"
          ]
        }
      ]
    },
    {
      "cell_type": "code",
      "source": [
        "for layer in pre_trained_model.layers:\n",
        "  layer.trainable = False"
      ],
      "metadata": {
        "id": "pIrczSngkqNt"
      },
      "execution_count": 12,
      "outputs": []
    },
    {
      "cell_type": "code",
      "source": [
        "# pre_trained_model.summary()"
      ],
      "metadata": {
        "id": "xzL6_YQ5lket"
      },
      "execution_count": null,
      "outputs": []
    },
    {
      "cell_type": "code",
      "source": [
        "# Flatten the output layer to 1 dimension\n",
        "x = layers.Flatten()(pre_trained_model.output)\n",
        "\n",
        "# Add a fully connected layer with 1,024 hidden units and ReLU activation\n",
        "x = layers.Dense(1024, activation='relu')(x)\n",
        "# Add a dropout rate of 0.2\n",
        "x = layers.Dropout(0.5)(x)              \n",
        "\n",
        "x = layers.Dense(512, activation='relu')(x)\n",
        "# Add a final sigmoid layer for classification\n",
        "x = layers.Dense(2, activation='softmax')(x)           \n",
        "\n",
        "# Append the dense network to the base model\n",
        "model = Model(pre_trained_model.input, x) "
      ],
      "metadata": {
        "id": "0Mr2k1_Qlkij"
      },
      "execution_count": 19,
      "outputs": []
    },
    {
      "cell_type": "code",
      "source": [
        "class myCallback(tf.keras.callbacks.Callback):\n",
        "    def on_epoch_end(self, epoch, logs={}):\n",
        "        if logs.get('val_accuracy') > 0.92:\n",
        "            print(\"\\nReached 92.0% accuracy so cancelling training!\")\n",
        "            self.model.stop_training = True"
      ],
      "metadata": {
        "id": "JOL8AKfRuTeD"
      },
      "execution_count": 20,
      "outputs": []
    },
    {
      "cell_type": "code",
      "source": [
        "# last_desired_layer = pre_trained_model.get_layer('mixed7')\n",
        "# print('last layer output shape: ', last_desired_layer.output_shape)\n",
        "# last_output = last_desired_layer.output\n",
        "# print('last layer output: ', last_output)"
      ],
      "metadata": {
        "id": "RBLFf2X7vJzb"
      },
      "execution_count": null,
      "outputs": []
    },
    {
      "cell_type": "code",
      "source": [
        "# # Flatten the output layer to 1 dimension\n",
        "# x = layers.Flatten()(pre_trained_model.output)\n",
        "# # Add a fully connected layer with 1,024 hidden units and ReLU activation\n",
        "# x = layers.Dense(1024, activation='relu')(x)\n",
        "# # Add a dropout rate of 0.2\n",
        "# x = layers.Dropout(0.2)(x)                  \n",
        "# # Add a final sigmoid layer for classification\n",
        "# x = layers.Dense  (1, activation='sigmoid')(x)           \n",
        "\n",
        "# # Append the dense network to the base model\n",
        "# model = Model(pre_trained_model.input, x) "
      ],
      "metadata": {
        "id": "H6m23WUuvKb8"
      },
      "execution_count": null,
      "outputs": []
    },
    {
      "cell_type": "code",
      "source": [
        "model.compile(optimizer= Adam(learning_rate=0.001),\n",
        "              loss='categorical_crossentropy',\n",
        "              metrics=['accuracy'])"
      ],
      "metadata": {
        "id": "-xzeV64VlklY"
      },
      "execution_count": 21,
      "outputs": []
    },
    {
      "cell_type": "code",
      "source": [
        "callbacks = myCallback()\n",
        "history = model.fit(\n",
        "    training_generator,\n",
        "    epochs=100, \n",
        "    batch_size=32,\n",
        "    validation_data=validation_generator,\n",
        "    validation_steps=4,  \n",
        "    verbose=2,\n",
        "    callbacks=[callbacks]\n",
        "    )"
      ],
      "metadata": {
        "colab": {
          "base_uri": "https://localhost:8080/"
        },
        "id": "-Cypnbgg9C53",
        "outputId": "9e7fb101-f498-4961-dfb9-138e7941eb9c"
      },
      "execution_count": 22,
      "outputs": [
        {
          "output_type": "stream",
          "name": "stdout",
          "text": [
            "Epoch 1/100\n",
            "46/46 - 64s - loss: 13.2710 - accuracy: 0.6359 - val_loss: 1.9874 - val_accuracy: 0.7188 - 64s/epoch - 1s/step\n",
            "Epoch 2/100\n",
            "46/46 - 59s - loss: 1.9379 - accuracy: 0.7488 - val_loss: 1.2163 - val_accuracy: 0.7812 - 59s/epoch - 1s/step\n",
            "Epoch 3/100\n",
            "46/46 - 57s - loss: 0.8642 - accuracy: 0.7784 - val_loss: 0.3976 - val_accuracy: 0.8438 - 57s/epoch - 1s/step\n",
            "Epoch 4/100\n",
            "46/46 - 58s - loss: 0.5844 - accuracy: 0.7866 - val_loss: 0.3778 - val_accuracy: 0.8125 - 58s/epoch - 1s/step\n",
            "Epoch 5/100\n",
            "46/46 - 59s - loss: 0.4432 - accuracy: 0.8004 - val_loss: 0.4358 - val_accuracy: 0.8281 - 59s/epoch - 1s/step\n",
            "Epoch 6/100\n",
            "46/46 - 57s - loss: 0.4531 - accuracy: 0.7839 - val_loss: 0.5000 - val_accuracy: 0.7422 - 57s/epoch - 1s/step\n",
            "Epoch 7/100\n",
            "46/46 - 59s - loss: 0.3795 - accuracy: 0.8465 - val_loss: 0.3285 - val_accuracy: 0.8438 - 59s/epoch - 1s/step\n",
            "Epoch 8/100\n",
            "46/46 - 59s - loss: 0.3984 - accuracy: 0.8231 - val_loss: 0.4294 - val_accuracy: 0.7734 - 59s/epoch - 1s/step\n",
            "Epoch 9/100\n",
            "46/46 - 58s - loss: 0.4050 - accuracy: 0.7942 - val_loss: 0.3575 - val_accuracy: 0.8359 - 58s/epoch - 1s/step\n",
            "Epoch 10/100\n",
            "46/46 - 59s - loss: 0.3898 - accuracy: 0.8107 - val_loss: 0.3352 - val_accuracy: 0.8594 - 59s/epoch - 1s/step\n",
            "Epoch 11/100\n",
            "46/46 - 58s - loss: 0.4058 - accuracy: 0.7990 - val_loss: 0.3845 - val_accuracy: 0.8516 - 58s/epoch - 1s/step\n",
            "Epoch 12/100\n",
            "46/46 - 57s - loss: 0.3805 - accuracy: 0.8087 - val_loss: 0.2748 - val_accuracy: 0.8984 - 57s/epoch - 1s/step\n",
            "Epoch 13/100\n",
            "46/46 - 59s - loss: 0.3971 - accuracy: 0.8362 - val_loss: 0.3030 - val_accuracy: 0.8906 - 59s/epoch - 1s/step\n",
            "Epoch 14/100\n",
            "46/46 - 58s - loss: 0.3310 - accuracy: 0.8472 - val_loss: 0.3631 - val_accuracy: 0.8438 - 58s/epoch - 1s/step\n",
            "Epoch 15/100\n",
            "46/46 - 58s - loss: 0.3639 - accuracy: 0.8162 - val_loss: 0.2989 - val_accuracy: 0.8984 - 58s/epoch - 1s/step\n",
            "Epoch 16/100\n",
            "46/46 - 58s - loss: 0.3433 - accuracy: 0.8293 - val_loss: 0.3346 - val_accuracy: 0.8828 - 58s/epoch - 1s/step\n",
            "Epoch 17/100\n",
            "46/46 - 59s - loss: 0.3422 - accuracy: 0.8527 - val_loss: 0.3319 - val_accuracy: 0.8828 - 59s/epoch - 1s/step\n",
            "Epoch 18/100\n",
            "46/46 - 59s - loss: 0.3283 - accuracy: 0.8513 - val_loss: 0.3475 - val_accuracy: 0.8594 - 59s/epoch - 1s/step\n",
            "Epoch 19/100\n",
            "46/46 - 57s - loss: 0.3695 - accuracy: 0.8383 - val_loss: 0.3314 - val_accuracy: 0.8047 - 57s/epoch - 1s/step\n",
            "Epoch 20/100\n",
            "46/46 - 59s - loss: 0.3678 - accuracy: 0.8107 - val_loss: 0.3551 - val_accuracy: 0.8438 - 59s/epoch - 1s/step\n",
            "Epoch 21/100\n",
            "46/46 - 59s - loss: 0.3335 - accuracy: 0.8417 - val_loss: 0.4178 - val_accuracy: 0.8281 - 59s/epoch - 1s/step\n",
            "Epoch 22/100\n",
            "46/46 - 57s - loss: 0.3987 - accuracy: 0.8266 - val_loss: 0.3611 - val_accuracy: 0.8438 - 57s/epoch - 1s/step\n",
            "Epoch 23/100\n",
            "46/46 - 59s - loss: 0.3512 - accuracy: 0.8403 - val_loss: 0.3554 - val_accuracy: 0.8594 - 59s/epoch - 1s/step\n",
            "Epoch 24/100\n",
            "46/46 - 58s - loss: 0.3446 - accuracy: 0.8534 - val_loss: 0.3748 - val_accuracy: 0.8438 - 58s/epoch - 1s/step\n",
            "Epoch 25/100\n",
            "46/46 - 58s - loss: 0.4186 - accuracy: 0.7922 - val_loss: 0.3168 - val_accuracy: 0.8750 - 58s/epoch - 1s/step\n",
            "Epoch 26/100\n",
            "46/46 - 58s - loss: 0.4223 - accuracy: 0.7935 - val_loss: 0.3496 - val_accuracy: 0.8672 - 58s/epoch - 1s/step\n",
            "Epoch 27/100\n",
            "46/46 - 59s - loss: 0.4436 - accuracy: 0.8004 - val_loss: 0.2509 - val_accuracy: 0.8906 - 59s/epoch - 1s/step\n",
            "Epoch 28/100\n",
            "46/46 - 58s - loss: 0.3830 - accuracy: 0.8176 - val_loss: 0.3880 - val_accuracy: 0.8672 - 58s/epoch - 1s/step\n",
            "Epoch 29/100\n",
            "46/46 - 58s - loss: 0.3551 - accuracy: 0.8328 - val_loss: 0.4541 - val_accuracy: 0.8359 - 58s/epoch - 1s/step\n",
            "Epoch 30/100\n",
            "\n",
            "Reached 92.0% accuracy so cancelling training!\n",
            "46/46 - 58s - loss: 0.4132 - accuracy: 0.7963 - val_loss: 0.2411 - val_accuracy: 0.9219 - 58s/epoch - 1s/step\n"
          ]
        }
      ]
    },
    {
      "cell_type": "code",
      "source": [
        "import matplotlib.pyplot as plt\n",
        "\n",
        "# Plot the chart for accuracy and loss on both training and validation\n",
        "acc = history.history['accuracy']\n",
        "val_acc = history.history['val_accuracy']\n",
        "loss = history.history['loss']\n",
        "val_loss = history.history['val_loss']\n",
        "\n",
        "epochs = range(len(acc))\n",
        "\n",
        "plt.plot(epochs, acc, 'r', label='Training accuracy')\n",
        "plt.plot(epochs, val_acc, 'b', label='Validation accuracy')\n",
        "plt.title('Training and validation accuracy')\n",
        "plt.legend()\n",
        "plt.figure()\n",
        "\n",
        "plt.plot(epochs, loss, 'r', label='Training Loss')\n",
        "plt.plot(epochs, val_loss, 'b', label='Validation Loss')\n",
        "plt.title('Training and validation loss')\n",
        "plt.legend()\n",
        "\n",
        "plt.show()"
      ],
      "metadata": {
        "id": "Y-LYf9uRbeCX",
        "colab": {
          "base_uri": "https://localhost:8080/",
          "height": 545
        },
        "outputId": "3f6406d3-4cb3-4289-ce6f-f54229aa993a"
      },
      "execution_count": 23,
      "outputs": [
        {
          "output_type": "display_data",
          "data": {
            "text/plain": [
              "<Figure size 432x288 with 1 Axes>"
            ],
            "image/png": "[encoded data removed]"
          },
          "metadata": {
            "needs_background": "light"
          }
        },
        {
          "output_type": "display_data",
          "data": {
            "text/plain": [
              "<Figure size 432x288 with 1 Axes>"
            ],
            "image/png": "[encoded data removed]"
          },
          "metadata": {
            "needs_background": "light"
          }
        }
      ]
    },
    {
      "cell_type": "code",
      "source": [
        "model.save('/content/drive/MyDrive/model_incpV3.h5')"
      ],
      "metadata": {
        "id": "3H3VzE9xBUYB"
      },
      "execution_count": 24,
      "outputs": []
    },
    {
      "cell_type": "code",
      "source": [
        "import numpy as np\n",
        "from google.colab import files\n",
        "from keras.preprocessing import image\n",
        "import matplotlib.pyplot as plt\n",
        "import matplotlib.image as mpimg\n",
        "%matplotlib inline\n",
        "     "
      ],
      "metadata": {
        "id": "OV7pi9FGCQae"
      },
      "execution_count": null,
      "outputs": []
    },
    {
      "cell_type": "code",
      "source": [
        "uploaded = files.upload()\n",
        "     \n",
        "for fn in uploaded.keys():\n",
        "  path = fn\n",
        "  img = image.load_img(path, target_size=(256,256))\n",
        "  imgplot = plt.imshow(img)\n",
        "  x = image.img_to_array(img)\n",
        "  x = np.expand_dims(x, axis=0)\n",
        "     \n",
        "  images = np.vstack([x])\n",
        "  classes = model.predict(images, batch_size=10)\n",
        "      \n",
        "  print(fn)\n",
        "  if classes[0]==1:\n",
        "    print('Pria')\n",
        "  else:\n",
        "    print('Wanita')"
      ],
      "metadata": {
        "id": "szm26tvJCVrL"
      },
      "execution_count": null,
      "outputs": []
    },
    {
      "cell_type": "code",
      "source": [
        "uploaded = files.upload()\n",
        "\n",
        "for fn in uploaded.keys():\n",
        "  path = fn\n",
        "  img = image.load_img(path, target_size=(256,256))\n",
        "  imgplot = plt.imshow(img)\n",
        "  x = image.img_to_array(img)\n",
        "  x = np.expand_dims(x, axis=0)\n",
        "\n",
        "  predictions = model.predict(x)\n",
        "  score = tf.nn.sigmoid(predictions[0]) "
      ],
      "metadata": {
        "id": "5ElIjUckEaBH"
      },
      "execution_count": null,
      "outputs": []
    },
    {
      "cell_type": "code",
      "source": [
        "def testing_image(image_directory):\n",
        "    test_image = image.load_img(image_directory, target_size = (256, 256))\n",
        "    test_image = image.img_to_array(test_image)\n",
        "    test_image = np.expand_dims(test_image, axis = 0)\n",
        "#Changes in code\n",
        "    pred = model.predict(test_image)\n",
        "    result = np.where(pred > 0.5, 1, 0) #<--to get the binary category\n",
        "    print(pred)\n",
        "    print(result)\n",
        "testing_image('/content/drive/MyDrive/data_gender/Pria/100_2.jpg')"
      ],
      "metadata": {
        "id": "Yr9S_P21GarM"
      },
      "execution_count": null,
      "outputs": []
    },
    {
      "cell_type": "code",
      "source": [
        "testing_image('/content/drive/MyDrive/data_gender/Wanita/103_1.jpg')"
      ],
      "metadata": {
        "id": "JMFRTBt_GiJL"
      },
      "execution_count": null,
      "outputs": []
    },
    {
      "cell_type": "code",
      "source": [
        "testing_image('/content/drive/MyDrive/data_gender/Pria/148_1.jpg')"
      ],
      "metadata": {
        "id": "ns4ukQEpHI7i"
      },
      "execution_count": null,
      "outputs": []
    },
    {
      "cell_type": "code",
      "source": [
        "testing_image('/content/drive/MyDrive/data_gender/Wanita/103_1.jpg')"
      ],
      "metadata": {
        "id": "S6Exv34WHPDS"
      },
      "execution_count": null,
      "outputs": []
    },
    {
      "cell_type": "code",
      "source": [
        ""
      ],
      "metadata": {
        "id": "dLuskWSaHPH9"
      },
      "execution_count": null,
      "outputs": []
    }
  ]
}