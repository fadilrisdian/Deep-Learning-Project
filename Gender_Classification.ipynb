{
  "nbformat": 4,
  "nbformat_minor": 0,
  "metadata": {
    "colab": {
      "name": "Gender_Classification.ipynb",
      "provenance": [],
      "collapsed_sections": []
    },
    "kernelspec": {
      "name": "python3",
      "display_name": "Python 3"
    },
    "language_info": {
      "name": "python"
    },
    "accelerator": "GPU",
    "gpuClass": "standard"
  },
  "cells": [
    {
      "cell_type": "code",
      "execution_count": 1,
      "metadata": {
        "id": "68k0YeCn6T9S"
      },
      "outputs": [],
      "source": [
        "import os\n",
        "import zipfile\n",
        "import shutil\n",
        "import numpy as np\n",
        "import matplotlib.pyplot as plt\n",
        "import tensorflow as tf\n",
        "\n",
        "from tensorflow.keras.preprocessing.image import ImageDataGenerator\n",
        "from tensorflow.keras.preprocessing.image import load_img\n",
        "from tensorflow.keras.preprocessing.image import img_to_array\n",
        "from tensorflow.keras.optimizers import RMSprop, SGD, Adam\n",
        "from tensorflow.keras import Model"
      ]
    },
    {
      "cell_type": "code",
      "source": [
        "from tensorflow.keras.applications.inception_v3 import InceptionV3\n",
        "from tensorflow.keras import layers"
      ],
      "metadata": {
        "id": "FrVREzY099NG"
      },
      "execution_count": 2,
      "outputs": []
    },
    {
      "cell_type": "code",
      "source": [
        "# for file_name in os.listdir(source_folder):\n",
        "#     # construct full file path\n",
        "#     source = source_folder + file_name\n",
        "#     destination = destination_folder + file_name\n",
        "#     # copy only files\n",
        "#     if os.path.isfile(source):\n",
        "#         shutil.copyfile(source, destination)\n",
        "#         print('copied', file_name)"
      ],
      "metadata": {
        "id": "_kI1wuYWCbpN"
      },
      "execution_count": null,
      "outputs": []
    },
    {
      "cell_type": "code",
      "source": [
        "from google.colab import drive\n",
        "drive.mount('/content/drive')"
      ],
      "metadata": {
        "colab": {
          "base_uri": "https://localhost:8080/"
        },
        "id": "ckR6U9isBLcg",
        "outputId": "e394423b-b50d-4105-e51c-6378896e5e7d"
      },
      "execution_count": 4,
      "outputs": [
        {
          "output_type": "stream",
          "name": "stdout",
          "text": [
            "Mounted at /content/drive\n"
          ]
        }
      ]
    },
    {
      "cell_type": "code",
      "source": [
        "source_path_pria = '/content/drive/MyDrive/data_gender/Pria'\n",
        "source_path_wanita = '/content/drive/MyDrive/data_gender/Wanita'\n",
        "# os.listdir returns a list containing all files under the given path\n",
        "print(f\"There are {len(os.listdir(source_path_pria))} images of pria.\")\n",
        "print(f\"There are {len(os.listdir(source_path_wanita))} images of wanita.\")"
      ],
      "metadata": {
        "id": "Rqh1zWoiChcu",
        "colab": {
          "base_uri": "https://localhost:8080/"
        },
        "outputId": "4f43360d-a0c4-4bb4-c915-106f48761ba4"
      },
      "execution_count": 5,
      "outputs": [
        {
          "output_type": "stream",
          "name": "stdout",
          "text": [
            "There are 727 images of pria.\n",
            "There are 1089 images of wanita.\n"
          ]
        }
      ]
    },
    {
      "cell_type": "code",
      "source": [
        "# Load the first example of a happy face\n",
        "sample_image  = load_img(f\"{os.path.join(source_path_pria, os.listdir(source_path_pria)[0])}\")\n",
        "\n",
        "# Convert the image into its numpy array representation\n",
        "sample_array = img_to_array(sample_image)\n",
        "\n",
        "print(f\"Each image has shape: {sample_array.shape}\")\n",
        "\n",
        "print(f\"The maximum pixel value used is: {np.max(sample_array)}\")"
      ],
      "metadata": {
        "colab": {
          "base_uri": "https://localhost:8080/"
        },
        "id": "eZfGwT-8C2P1",
        "outputId": "b6fcd931-4673-49c5-d90e-377bca4e3d3e"
      },
      "execution_count": 6,
      "outputs": [
        {
          "output_type": "stream",
          "name": "stdout",
          "text": [
            "Each image has shape: (1350, 1080, 3)\n",
            "The maximum pixel value used is: 255.0\n"
          ]
        }
      ]
    },
    {
      "cell_type": "code",
      "source": [
        "base_dir = '/content/drive/MyDrive/data_gender/'"
      ],
      "metadata": {
        "id": "JUVJX_0_D9qK"
      },
      "execution_count": 7,
      "outputs": []
    },
    {
      "cell_type": "code",
      "source": [
        "train_datagen = ImageDataGenerator(\n",
        "                        rescale=1./255,\n",
        "                        rotation_range=20,\n",
        "                        horizontal_flip=True,\n",
        "                        width_shift_range=0.2,\n",
        "                        height_shift_range=0.2,\n",
        "                        shear_range = 0.2,\n",
        "                        fill_mode = 'nearest',\n",
        "                        validation_split=0.2,\n",
        "                        )"
      ],
      "metadata": {
        "id": "jbJeG_dbEL4L"
      },
      "execution_count": 8,
      "outputs": []
    },
    {
      "cell_type": "code",
      "source": [
        "test_datagen = ImageDataGenerator(rescale=1./255)"
      ],
      "metadata": {
        "id": "iffsusgmmcVd"
      },
      "execution_count": 9,
      "outputs": []
    },
    {
      "cell_type": "code",
      "source": [
        "training_generator = train_datagen.flow_from_directory(\n",
        "    base_dir,\n",
        "    target_size = (256, 256),\n",
        "    shuffle = True,\n",
        "    class_mode = 'categorical',\n",
        "    subset = 'training'\n",
        ")\n",
        "validation_generator = train_datagen.flow_from_directory(\n",
        "    base_dir,\n",
        "    target_size = (256, 256),\n",
        "    shuffle = True,\n",
        "    class_mode = 'categorical',\n",
        "    subset = 'validation'\n",
        ")"
      ],
      "metadata": {
        "colab": {
          "base_uri": "https://localhost:8080/"
        },
        "id": "DdyTplYAESP-",
        "outputId": "b408fe14-9fad-441f-b837-6fd83ebe5268"
      },
      "execution_count": 10,
      "outputs": [
        {
          "output_type": "stream",
          "name": "stdout",
          "text": [
            "Found 1453 images belonging to 2 classes.\n",
            "Found 362 images belonging to 2 classes.\n"
          ]
        }
      ]
    },
    {
      "cell_type": "code",
      "source": [
        "pre_trained_model = InceptionV3(input_shape = (256, 256, 3), \n",
        "                                include_top = False, \n",
        "                                weights = 'imagenet')"
      ],
      "metadata": {
        "id": "8tTpbVQwkqLF",
        "colab": {
          "base_uri": "https://localhost:8080/"
        },
        "outputId": "df0cec75-9a76-4ab6-e115-ee54c1125a9a"
      },
      "execution_count": 11,
      "outputs": [
        {
          "output_type": "stream",
          "name": "stdout",
          "text": [
            "Downloading data from https://storage.googleapis.com/tensorflow/keras-applications/inception_v3/inception_v3_weights_tf_dim_ordering_tf_kernels_notop.h5\n",
            "87916544/87910968 [==============================] - 0s 0us/step\n",
            "87924736/87910968 [==============================] - 0s 0us/step\n"
          ]
        }
      ]
    },
    {
      "cell_type": "code",
      "source": [
        "for layer in pre_trained_model.layers:\n",
        "  layer.trainable = False"
      ],
      "metadata": {
        "id": "pIrczSngkqNt"
      },
      "execution_count": 12,
      "outputs": []
    },
    {
      "cell_type": "code",
      "source": [
        "# pre_trained_model.summary()"
      ],
      "metadata": {
        "id": "xzL6_YQ5lket"
      },
      "execution_count": null,
      "outputs": []
    },
    {
      "cell_type": "code",
      "source": [
        "# Flatten the output layer to 1 dimension\n",
        "x = layers.Flatten()(pre_trained_model.output)\n",
        "\n",
        "# Add a fully connected layer with 1,024 hidden units and ReLU activation\n",
        "x = layers.Dense(1024, activation='relu')(x)\n",
        "# Add a dropout rate of 0.2\n",
        "x = layers.Dropout(0.5)(x)              \n",
        "\n",
        "x = layers.Dense(512, activation='relu')(x)\n",
        "# Add a final sigmoid layer for classification\n",
        "x = layers.Dense(2, activation='softmax')(x)           \n",
        "\n",
        "# Append the dense network to the base model\n",
        "model = Model(pre_trained_model.input, x) "
      ],
      "metadata": {
        "id": "0Mr2k1_Qlkij"
      },
      "execution_count": 19,
      "outputs": []
    },
    {
      "cell_type": "code",
      "source": [
        "class myCallback(tf.keras.callbacks.Callback):\n",
        "    def on_epoch_end(self, epoch, logs={}):\n",
        "        if logs.get('val_accuracy') > 0.95:\n",
        "            print(\"\\nReached 95.0% accuracy so cancelling training!\")\n",
        "            self.model.stop_training = True"
      ],
      "metadata": {
        "id": "JOL8AKfRuTeD"
      },
      "execution_count": 25,
      "outputs": []
    },
    {
      "cell_type": "code",
      "source": [
        "# last_desired_layer = pre_trained_model.get_layer('mixed7')\n",
        "# print('last layer output shape: ', last_desired_layer.output_shape)\n",
        "# last_output = last_desired_layer.output\n",
        "# print('last layer output: ', last_output)"
      ],
      "metadata": {
        "id": "RBLFf2X7vJzb"
      },
      "execution_count": null,
      "outputs": []
    },
    {
      "cell_type": "code",
      "source": [
        "# # Flatten the output layer to 1 dimension\n",
        "# x = layers.Flatten()(pre_trained_model.output)\n",
        "# # Add a fully connected layer with 1,024 hidden units and ReLU activation\n",
        "# x = layers.Dense(1024, activation='relu')(x)\n",
        "# # Add a dropout rate of 0.2\n",
        "# x = layers.Dropout(0.2)(x)                  \n",
        "# # Add a final sigmoid layer for classification\n",
        "# x = layers.Dense  (1, activation='sigmoid')(x)           \n",
        "\n",
        "# # Append the dense network to the base model\n",
        "# model = Model(pre_trained_model.input, x) "
      ],
      "metadata": {
        "id": "H6m23WUuvKb8"
      },
      "execution_count": null,
      "outputs": []
    },
    {
      "cell_type": "code",
      "source": [
        "model.compile(optimizer= RMSprop(learning_rate=0.0001),\n",
        "              loss='categorical_crossentropy',\n",
        "              metrics=['accuracy'])"
      ],
      "metadata": {
        "id": "-xzeV64VlklY"
      },
      "execution_count": 26,
      "outputs": []
    },
    {
      "cell_type": "code",
      "source": [
        "callbacks = myCallback()\n",
        "history = model.fit(\n",
        "    training_generator,\n",
        "    epochs=100, \n",
        "    batch_size=32,\n",
        "    validation_data=validation_generator,\n",
        "    validation_steps=4,  \n",
        "    verbose=2,\n",
        "    callbacks=[callbacks]\n",
        "    )"
      ],
      "metadata": {
        "colab": {
          "base_uri": "https://localhost:8080/"
        },
        "id": "-Cypnbgg9C53",
        "outputId": "99a9b32f-f5e9-4a69-d3a8-c0c6b919c02a"
      },
      "execution_count": 27,
      "outputs": [
        {
          "output_type": "stream",
          "name": "stdout",
          "text": [
            "Epoch 1/100\n",
            "46/46 - 68s - loss: 0.3381 - accuracy: 0.8328 - val_loss: 0.3090 - val_accuracy: 0.8750 - 68s/epoch - 1s/step\n",
            "Epoch 2/100\n",
            "46/46 - 60s - loss: 0.3277 - accuracy: 0.8211 - val_loss: 0.3473 - val_accuracy: 0.8594 - 60s/epoch - 1s/step\n",
            "Epoch 3/100\n",
            "46/46 - 61s - loss: 0.3022 - accuracy: 0.8376 - val_loss: 0.2976 - val_accuracy: 0.8594 - 61s/epoch - 1s/step\n",
            "Epoch 4/100\n",
            "46/46 - 60s - loss: 0.3219 - accuracy: 0.8472 - val_loss: 0.2473 - val_accuracy: 0.8906 - 60s/epoch - 1s/step\n",
            "Epoch 5/100\n",
            "46/46 - 62s - loss: 0.2957 - accuracy: 0.8507 - val_loss: 0.4735 - val_accuracy: 0.7969 - 62s/epoch - 1s/step\n",
            "Epoch 6/100\n",
            "46/46 - 61s - loss: 0.2737 - accuracy: 0.8720 - val_loss: 0.3164 - val_accuracy: 0.8359 - 61s/epoch - 1s/step\n",
            "Epoch 7/100\n",
            "46/46 - 61s - loss: 0.2985 - accuracy: 0.8651 - val_loss: 0.3796 - val_accuracy: 0.8594 - 61s/epoch - 1s/step\n",
            "Epoch 8/100\n",
            "46/46 - 61s - loss: 0.2952 - accuracy: 0.8658 - val_loss: 0.3084 - val_accuracy: 0.8438 - 61s/epoch - 1s/step\n",
            "Epoch 9/100\n",
            "46/46 - 59s - loss: 0.2578 - accuracy: 0.8858 - val_loss: 0.2869 - val_accuracy: 0.8672 - 59s/epoch - 1s/step\n",
            "Epoch 10/100\n",
            "46/46 - 60s - loss: 0.2504 - accuracy: 0.8940 - val_loss: 0.2897 - val_accuracy: 0.8672 - 60s/epoch - 1s/step\n",
            "Epoch 11/100\n",
            "46/46 - 60s - loss: 0.2724 - accuracy: 0.8968 - val_loss: 0.2942 - val_accuracy: 0.8750 - 60s/epoch - 1s/step\n",
            "Epoch 12/100\n",
            "46/46 - 60s - loss: 0.2507 - accuracy: 0.8830 - val_loss: 0.2596 - val_accuracy: 0.9141 - 60s/epoch - 1s/step\n",
            "Epoch 13/100\n",
            "46/46 - 60s - loss: 0.2667 - accuracy: 0.8913 - val_loss: 0.4076 - val_accuracy: 0.8047 - 60s/epoch - 1s/step\n",
            "Epoch 14/100\n",
            "46/46 - 61s - loss: 0.2563 - accuracy: 0.8968 - val_loss: 0.3006 - val_accuracy: 0.8672 - 61s/epoch - 1s/step\n",
            "Epoch 15/100\n",
            "46/46 - 61s - loss: 0.2622 - accuracy: 0.8947 - val_loss: 0.3191 - val_accuracy: 0.8828 - 61s/epoch - 1s/step\n",
            "Epoch 16/100\n",
            "46/46 - 60s - loss: 0.2397 - accuracy: 0.8961 - val_loss: 0.3669 - val_accuracy: 0.8438 - 60s/epoch - 1s/step\n",
            "Epoch 17/100\n",
            "46/46 - 59s - loss: 0.2277 - accuracy: 0.9140 - val_loss: 0.2819 - val_accuracy: 0.8594 - 59s/epoch - 1s/step\n",
            "Epoch 18/100\n",
            "46/46 - 61s - loss: 0.2330 - accuracy: 0.9009 - val_loss: 0.2704 - val_accuracy: 0.8906 - 61s/epoch - 1s/step\n",
            "Epoch 19/100\n",
            "46/46 - 60s - loss: 0.2291 - accuracy: 0.9050 - val_loss: 0.3586 - val_accuracy: 0.8516 - 60s/epoch - 1s/step\n",
            "Epoch 20/100\n",
            "46/46 - 58s - loss: 0.2550 - accuracy: 0.8954 - val_loss: 0.2648 - val_accuracy: 0.9062 - 58s/epoch - 1s/step\n",
            "Epoch 21/100\n",
            "46/46 - 61s - loss: 0.2649 - accuracy: 0.8913 - val_loss: 0.3075 - val_accuracy: 0.8672 - 61s/epoch - 1s/step\n",
            "Epoch 22/100\n",
            "46/46 - 60s - loss: 0.2498 - accuracy: 0.8988 - val_loss: 0.3964 - val_accuracy: 0.8438 - 60s/epoch - 1s/step\n",
            "Epoch 23/100\n",
            "46/46 - 61s - loss: 0.2413 - accuracy: 0.8988 - val_loss: 0.2875 - val_accuracy: 0.8750 - 61s/epoch - 1s/step\n",
            "Epoch 24/100\n",
            "46/46 - 58s - loss: 0.2379 - accuracy: 0.9016 - val_loss: 0.2436 - val_accuracy: 0.8828 - 58s/epoch - 1s/step\n",
            "Epoch 25/100\n",
            "46/46 - 61s - loss: 0.2381 - accuracy: 0.8968 - val_loss: 0.4200 - val_accuracy: 0.8594 - 61s/epoch - 1s/step\n",
            "Epoch 26/100\n",
            "46/46 - 60s - loss: 0.2490 - accuracy: 0.9023 - val_loss: 0.3056 - val_accuracy: 0.8594 - 60s/epoch - 1s/step\n",
            "Epoch 27/100\n",
            "46/46 - 61s - loss: 0.2467 - accuracy: 0.8995 - val_loss: 0.3056 - val_accuracy: 0.8594 - 61s/epoch - 1s/step\n",
            "Epoch 28/100\n",
            "46/46 - 59s - loss: 0.2159 - accuracy: 0.9092 - val_loss: 0.3130 - val_accuracy: 0.8594 - 59s/epoch - 1s/step\n",
            "Epoch 29/100\n",
            "46/46 - 62s - loss: 0.2234 - accuracy: 0.9036 - val_loss: 0.3342 - val_accuracy: 0.8984 - 62s/epoch - 1s/step\n",
            "Epoch 30/100\n",
            "46/46 - 59s - loss: 0.2194 - accuracy: 0.9078 - val_loss: 0.2673 - val_accuracy: 0.8984 - 59s/epoch - 1s/step\n",
            "Epoch 31/100\n",
            "46/46 - 59s - loss: 0.2534 - accuracy: 0.8988 - val_loss: 0.3700 - val_accuracy: 0.8594 - 59s/epoch - 1s/step\n",
            "Epoch 32/100\n",
            "46/46 - 58s - loss: 0.2229 - accuracy: 0.9050 - val_loss: 0.3306 - val_accuracy: 0.8828 - 58s/epoch - 1s/step\n",
            "Epoch 33/100\n",
            "46/46 - 59s - loss: 0.2081 - accuracy: 0.9112 - val_loss: 0.3093 - val_accuracy: 0.8828 - 59s/epoch - 1s/step\n",
            "Epoch 34/100\n",
            "46/46 - 60s - loss: 0.2296 - accuracy: 0.9064 - val_loss: 0.3714 - val_accuracy: 0.8516 - 60s/epoch - 1s/step\n",
            "Epoch 35/100\n",
            "46/46 - 58s - loss: 0.2456 - accuracy: 0.9050 - val_loss: 0.3425 - val_accuracy: 0.8672 - 58s/epoch - 1s/step\n",
            "Epoch 36/100\n",
            "46/46 - 59s - loss: 0.2628 - accuracy: 0.9071 - val_loss: 0.2702 - val_accuracy: 0.8906 - 59s/epoch - 1s/step\n",
            "Epoch 37/100\n",
            "46/46 - 59s - loss: 0.2302 - accuracy: 0.9092 - val_loss: 0.3004 - val_accuracy: 0.8984 - 59s/epoch - 1s/step\n",
            "Epoch 38/100\n",
            "46/46 - 58s - loss: 0.2300 - accuracy: 0.9016 - val_loss: 0.3585 - val_accuracy: 0.8828 - 58s/epoch - 1s/step\n",
            "Epoch 39/100\n",
            "46/46 - 60s - loss: 0.2164 - accuracy: 0.9078 - val_loss: 0.3841 - val_accuracy: 0.8125 - 60s/epoch - 1s/step\n",
            "Epoch 40/100\n",
            "46/46 - 59s - loss: 0.2369 - accuracy: 0.9174 - val_loss: 0.3186 - val_accuracy: 0.8281 - 59s/epoch - 1s/step\n",
            "Epoch 41/100\n",
            "46/46 - 58s - loss: 0.2332 - accuracy: 0.9085 - val_loss: 0.3034 - val_accuracy: 0.8750 - 58s/epoch - 1s/step\n",
            "Epoch 42/100\n",
            "46/46 - 59s - loss: 0.2157 - accuracy: 0.9092 - val_loss: 0.3030 - val_accuracy: 0.8828 - 59s/epoch - 1s/step\n",
            "Epoch 43/100\n",
            "46/46 - 60s - loss: 0.2029 - accuracy: 0.9085 - val_loss: 0.2641 - val_accuracy: 0.8750 - 60s/epoch - 1s/step\n",
            "Epoch 44/100\n",
            "46/46 - 58s - loss: 0.2212 - accuracy: 0.9215 - val_loss: 0.2683 - val_accuracy: 0.8906 - 58s/epoch - 1s/step\n",
            "Epoch 45/100\n",
            "46/46 - 60s - loss: 0.2303 - accuracy: 0.9098 - val_loss: 0.3078 - val_accuracy: 0.8906 - 60s/epoch - 1s/step\n",
            "Epoch 46/100\n",
            "46/46 - 60s - loss: 0.2044 - accuracy: 0.9133 - val_loss: 0.2701 - val_accuracy: 0.9141 - 60s/epoch - 1s/step\n",
            "Epoch 47/100\n",
            "46/46 - 58s - loss: 0.2074 - accuracy: 0.9119 - val_loss: 0.3540 - val_accuracy: 0.8672 - 58s/epoch - 1s/step\n",
            "Epoch 48/100\n",
            "46/46 - 60s - loss: 0.2301 - accuracy: 0.9071 - val_loss: 0.2790 - val_accuracy: 0.8594 - 60s/epoch - 1s/step\n",
            "Epoch 49/100\n",
            "46/46 - 59s - loss: 0.2171 - accuracy: 0.9050 - val_loss: 0.2663 - val_accuracy: 0.8984 - 59s/epoch - 1s/step\n",
            "Epoch 50/100\n",
            "46/46 - 58s - loss: 0.2126 - accuracy: 0.9140 - val_loss: 0.2927 - val_accuracy: 0.8828 - 58s/epoch - 1s/step\n",
            "Epoch 51/100\n",
            "46/46 - 59s - loss: 0.2204 - accuracy: 0.9119 - val_loss: 0.2913 - val_accuracy: 0.9062 - 59s/epoch - 1s/step\n",
            "Epoch 52/100\n",
            "46/46 - 60s - loss: 0.2058 - accuracy: 0.9119 - val_loss: 0.2744 - val_accuracy: 0.8828 - 60s/epoch - 1s/step\n",
            "Epoch 53/100\n",
            "46/46 - 58s - loss: 0.1914 - accuracy: 0.9222 - val_loss: 0.2574 - val_accuracy: 0.8906 - 58s/epoch - 1s/step\n",
            "Epoch 54/100\n",
            "46/46 - 59s - loss: 0.1979 - accuracy: 0.9195 - val_loss: 0.2286 - val_accuracy: 0.9141 - 59s/epoch - 1s/step\n",
            "Epoch 55/100\n",
            "46/46 - 60s - loss: 0.2027 - accuracy: 0.9092 - val_loss: 0.3152 - val_accuracy: 0.8906 - 60s/epoch - 1s/step\n",
            "Epoch 56/100\n",
            "46/46 - 58s - loss: 0.2117 - accuracy: 0.9209 - val_loss: 0.3659 - val_accuracy: 0.8750 - 58s/epoch - 1s/step\n",
            "Epoch 57/100\n",
            "46/46 - 59s - loss: 0.2117 - accuracy: 0.9188 - val_loss: 0.3285 - val_accuracy: 0.8750 - 59s/epoch - 1s/step\n",
            "Epoch 58/100\n",
            "46/46 - 59s - loss: 0.2009 - accuracy: 0.9243 - val_loss: 0.4527 - val_accuracy: 0.8359 - 59s/epoch - 1s/step\n",
            "Epoch 59/100\n",
            "46/46 - 58s - loss: 0.2085 - accuracy: 0.9147 - val_loss: 0.2707 - val_accuracy: 0.8672 - 58s/epoch - 1s/step\n",
            "Epoch 60/100\n",
            "46/46 - 59s - loss: 0.1959 - accuracy: 0.9174 - val_loss: 0.3759 - val_accuracy: 0.8594 - 59s/epoch - 1s/step\n",
            "Epoch 61/100\n",
            "46/46 - 59s - loss: 0.2041 - accuracy: 0.9209 - val_loss: 0.3105 - val_accuracy: 0.8594 - 59s/epoch - 1s/step\n",
            "Epoch 62/100\n",
            "46/46 - 58s - loss: 0.1976 - accuracy: 0.9222 - val_loss: 0.4090 - val_accuracy: 0.8594 - 58s/epoch - 1s/step\n",
            "Epoch 63/100\n",
            "46/46 - 60s - loss: 0.2135 - accuracy: 0.9119 - val_loss: 0.2796 - val_accuracy: 0.8906 - 60s/epoch - 1s/step\n",
            "Epoch 64/100\n",
            "46/46 - 59s - loss: 0.1921 - accuracy: 0.9243 - val_loss: 0.2859 - val_accuracy: 0.8906 - 59s/epoch - 1s/step\n",
            "Epoch 65/100\n",
            "46/46 - 57s - loss: 0.1848 - accuracy: 0.9188 - val_loss: 0.2438 - val_accuracy: 0.8984 - 57s/epoch - 1s/step\n",
            "Epoch 66/100\n",
            "46/46 - 59s - loss: 0.1915 - accuracy: 0.9174 - val_loss: 0.3109 - val_accuracy: 0.8750 - 59s/epoch - 1s/step\n",
            "Epoch 67/100\n",
            "46/46 - 58s - loss: 0.1867 - accuracy: 0.9298 - val_loss: 0.2658 - val_accuracy: 0.9141 - 58s/epoch - 1s/step\n",
            "Epoch 68/100\n",
            "46/46 - 57s - loss: 0.1794 - accuracy: 0.9312 - val_loss: 0.3925 - val_accuracy: 0.8594 - 57s/epoch - 1s/step\n",
            "Epoch 69/100\n",
            "46/46 - 58s - loss: 0.1778 - accuracy: 0.9202 - val_loss: 0.2033 - val_accuracy: 0.8984 - 58s/epoch - 1s/step\n",
            "Epoch 70/100\n",
            "46/46 - 59s - loss: 0.1777 - accuracy: 0.9339 - val_loss: 0.4858 - val_accuracy: 0.8672 - 59s/epoch - 1s/step\n",
            "Epoch 71/100\n",
            "46/46 - 57s - loss: 0.1905 - accuracy: 0.9222 - val_loss: 0.3147 - val_accuracy: 0.8672 - 57s/epoch - 1s/step\n",
            "Epoch 72/100\n",
            "46/46 - 59s - loss: 0.1980 - accuracy: 0.9209 - val_loss: 0.4224 - val_accuracy: 0.8047 - 59s/epoch - 1s/step\n",
            "Epoch 73/100\n",
            "46/46 - 59s - loss: 0.1838 - accuracy: 0.9160 - val_loss: 0.3066 - val_accuracy: 0.8750 - 59s/epoch - 1s/step\n",
            "Epoch 74/100\n",
            "46/46 - 59s - loss: 0.1929 - accuracy: 0.9181 - val_loss: 0.2796 - val_accuracy: 0.8828 - 59s/epoch - 1s/step\n",
            "Epoch 75/100\n",
            "46/46 - 58s - loss: 0.1683 - accuracy: 0.9291 - val_loss: 0.2536 - val_accuracy: 0.9141 - 58s/epoch - 1s/step\n",
            "Epoch 76/100\n",
            "46/46 - 59s - loss: 0.1741 - accuracy: 0.9270 - val_loss: 0.2734 - val_accuracy: 0.8906 - 59s/epoch - 1s/step\n",
            "Epoch 77/100\n",
            "46/46 - 59s - loss: 0.1842 - accuracy: 0.9257 - val_loss: 0.3185 - val_accuracy: 0.8906 - 59s/epoch - 1s/step\n",
            "Epoch 78/100\n",
            "46/46 - 58s - loss: 0.1854 - accuracy: 0.9222 - val_loss: 0.2909 - val_accuracy: 0.8672 - 58s/epoch - 1s/step\n",
            "Epoch 79/100\n",
            "46/46 - 60s - loss: 0.2142 - accuracy: 0.9236 - val_loss: 0.4230 - val_accuracy: 0.8281 - 60s/epoch - 1s/step\n",
            "Epoch 80/100\n",
            "46/46 - 59s - loss: 0.1768 - accuracy: 0.9270 - val_loss: 0.2759 - val_accuracy: 0.8828 - 59s/epoch - 1s/step\n",
            "Epoch 81/100\n",
            "46/46 - 60s - loss: 0.1859 - accuracy: 0.9264 - val_loss: 0.2532 - val_accuracy: 0.8984 - 60s/epoch - 1s/step\n",
            "Epoch 82/100\n",
            "46/46 - 58s - loss: 0.1680 - accuracy: 0.9298 - val_loss: 0.2161 - val_accuracy: 0.9297 - 58s/epoch - 1s/step\n",
            "Epoch 83/100\n",
            "46/46 - 59s - loss: 0.1634 - accuracy: 0.9346 - val_loss: 0.3323 - val_accuracy: 0.8828 - 59s/epoch - 1s/step\n",
            "Epoch 84/100\n",
            "46/46 - 59s - loss: 0.1712 - accuracy: 0.9381 - val_loss: 0.4043 - val_accuracy: 0.8125 - 59s/epoch - 1s/step\n",
            "Epoch 85/100\n",
            "46/46 - 58s - loss: 0.1905 - accuracy: 0.9229 - val_loss: 0.2378 - val_accuracy: 0.8828 - 58s/epoch - 1s/step\n",
            "Epoch 86/100\n",
            "46/46 - 59s - loss: 0.1630 - accuracy: 0.9312 - val_loss: 0.3903 - val_accuracy: 0.8750 - 59s/epoch - 1s/step\n",
            "Epoch 87/100\n",
            "46/46 - 59s - loss: 0.1635 - accuracy: 0.9387 - val_loss: 0.2381 - val_accuracy: 0.9297 - 59s/epoch - 1s/step\n",
            "Epoch 88/100\n",
            "46/46 - 59s - loss: 0.1879 - accuracy: 0.9250 - val_loss: 0.3901 - val_accuracy: 0.8359 - 59s/epoch - 1s/step\n",
            "Epoch 89/100\n",
            "46/46 - 59s - loss: 0.1687 - accuracy: 0.9277 - val_loss: 0.3273 - val_accuracy: 0.8672 - 59s/epoch - 1s/step\n",
            "Epoch 90/100\n",
            "46/46 - 59s - loss: 0.1744 - accuracy: 0.9174 - val_loss: 0.2924 - val_accuracy: 0.8750 - 59s/epoch - 1s/step\n",
            "Epoch 91/100\n",
            "46/46 - 58s - loss: 0.1692 - accuracy: 0.9312 - val_loss: 0.2684 - val_accuracy: 0.8984 - 58s/epoch - 1s/step\n",
            "Epoch 92/100\n",
            "46/46 - 59s - loss: 0.1487 - accuracy: 0.9401 - val_loss: 0.3197 - val_accuracy: 0.9062 - 59s/epoch - 1s/step\n",
            "Epoch 93/100\n",
            "46/46 - 59s - loss: 0.1673 - accuracy: 0.9346 - val_loss: 0.2639 - val_accuracy: 0.8750 - 59s/epoch - 1s/step\n",
            "Epoch 94/100\n",
            "46/46 - 58s - loss: 0.1888 - accuracy: 0.9305 - val_loss: 0.4514 - val_accuracy: 0.8281 - 58s/epoch - 1s/step\n",
            "Epoch 95/100\n",
            "46/46 - 59s - loss: 0.1825 - accuracy: 0.9277 - val_loss: 0.3470 - val_accuracy: 0.8750 - 59s/epoch - 1s/step\n",
            "Epoch 96/100\n",
            "46/46 - 59s - loss: 0.1604 - accuracy: 0.9346 - val_loss: 0.3086 - val_accuracy: 0.9297 - 59s/epoch - 1s/step\n",
            "Epoch 97/100\n",
            "46/46 - 58s - loss: 0.1861 - accuracy: 0.9326 - val_loss: 0.3746 - val_accuracy: 0.8906 - 58s/epoch - 1s/step\n",
            "Epoch 98/100\n",
            "46/46 - 59s - loss: 0.1754 - accuracy: 0.9305 - val_loss: 0.3615 - val_accuracy: 0.8750 - 59s/epoch - 1s/step\n",
            "Epoch 99/100\n",
            "46/46 - 59s - loss: 0.1675 - accuracy: 0.9367 - val_loss: 0.3437 - val_accuracy: 0.8594 - 59s/epoch - 1s/step\n",
            "Epoch 100/100\n",
            "46/46 - 59s - loss: 0.1743 - accuracy: 0.9367 - val_loss: 0.3600 - val_accuracy: 0.8594 - 59s/epoch - 1s/step\n"
          ]
        }
      ]
    },
    {
      "cell_type": "code",
      "source": [
        "import matplotlib.pyplot as plt\n",
        "\n",
        "# Plot the chart for accuracy and loss on both training and validation\n",
        "acc = history.history['accuracy']\n",
        "val_acc = history.history['val_accuracy']\n",
        "loss = history.history['loss']\n",
        "val_loss = history.history['val_loss']\n",
        "\n",
        "epochs = range(len(acc))\n",
        "\n",
        "plt.plot(epochs, acc, 'r', label='Training accuracy')\n",
        "plt.plot(epochs, val_acc, 'b', label='Validation accuracy')\n",
        "plt.title('Training and validation accuracy')\n",
        "plt.legend()\n",
        "plt.figure()\n",
        "\n",
        "plt.plot(epochs, loss, 'r', label='Training Loss')\n",
        "plt.plot(epochs, val_loss, 'b', label='Validation Loss')\n",
        "plt.title('Training and validation loss')\n",
        "plt.legend()\n",
        "\n",
        "plt.show()"
      ],
      "metadata": {
        "id": "Y-LYf9uRbeCX",
        "colab": {
          "base_uri": "https://localhost:8080/",
          "height": 545
        },
        "outputId": "95229bed-3d94-4cfa-ff4a-f1829ed69244"
      },
      "execution_count": 28,
      "outputs": [
        {
          "output_type": "display_data",
          "data": {
            "text/plain": [
              "<Figure size 432x288 with 1 Axes>"
            ],
            "image/png": "[encoded data removed]"
          },
          "metadata": {
            "needs_background": "light"
          }
        },
        {
          "output_type": "display_data",
          "data": {
            "text/plain": [
              "<Figure size 432x288 with 1 Axes>"
            ],
            "image/png": "[encoded data removed]"
          },
          "metadata": {
            "needs_background": "light"
          }
        }
      ]
    },
    {
      "cell_type": "code",
      "source": [
        "model.save('/content/drive/MyDrive/model_incpV3.h5')"
      ],
      "metadata": {
        "id": "3H3VzE9xBUYB"
      },
      "execution_count": 29,
      "outputs": []
    },
    {
      "cell_type": "code",
      "source": [
        "# import numpy as np\n",
        "# from google.colab import files\n",
        "# from keras.preprocessing import image\n",
        "# import matplotlib.pyplot as plt\n",
        "# import matplotlib.image as mpimg\n",
        "# %matplotlib inline\n",
        "     "
      ],
      "metadata": {
        "id": "OV7pi9FGCQae"
      },
      "execution_count": null,
      "outputs": []
    },
    {
      "cell_type": "code",
      "source": [
        "# def testing_image(image_directory):\n",
        "#     test_image = image.load_img(image_directory, target_size = (256, 256))\n",
        "#     test_image = image.img_to_array(test_image)\n",
        "#     test_image = np.expand_dims(test_image, axis = 0)\n",
        "# #Changes in code\n",
        "#     pred = model.predict(test_image)\n",
        "#     result = np.where(pred > 0.5, 1, 0) #<--to get the binary category\n",
        "#     print(pred)\n",
        "#     print(result)\n",
        "# testing_image('/content/drive/MyDrive/data_gender/Pria/100_2.jpg')"
      ],
      "metadata": {
        "id": "Yr9S_P21GarM"
      },
      "execution_count": null,
      "outputs": []
    }
  ]
}